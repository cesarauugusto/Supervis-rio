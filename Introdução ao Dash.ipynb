{
 "cells": [
  {
   "cell_type": "markdown",
   "metadata": {},
   "source": [
    "<img src=\"logo-ifce.jpg\" width=\"350\"/>\n",
    "\n",
    "Autor: Prof. Aldinei Aragão\n",
    "\n",
    "# Introdução ao Dash\n",
    "\n",
    "\n",
    "`Dash` é uma `Framework Python` criado para viabilizar a construção de aplicativos web do tipo `dashboards`. Foi desenvolvido sobre outros Framewroks, como: `Flask`, `Plotly.js` e `React.js`. \n",
    "\n",
    "Dash é ideal para desenvolver aplicativos de visualização de dados com interfaces de usuário personalizadas, sendo adequado para trabalhar com dados e sistemas de supervisão.\n",
    "\n",
    "\n",
    "## Instalando ou Removendo o Dash\n",
    "\n",
    "Para instalar o Dash, basta executar o comando:\n",
    "\n",
    "`pip install dash`\n",
    "\n",
    "Para remover:\n",
    "\n",
    "`pip uninstall dash`\n"
   ]
  },
  {
   "cell_type": "markdown",
   "metadata": {},
   "source": [
    "___"
   ]
  },
  {
   "cell_type": "markdown",
   "metadata": {},
   "source": [
    "## Layout Dash\n",
    "\n",
    "Os aplicativos com Dash contém dois elementos básicos. O primeiro consiste do `Layout` que descreve a forma como os objetos (botões, texto, gráficos, etc) ficam dispostos na página web. A segunda parte são os `Callbacks` que fazem a interação desses objetos na página web. \n",
    "\n",
    "Aqui vamos iniciar com o `Layout`.\n",
    "\n",
    "O Dash possui vários módulos para a criação de elementos visuais, no entanto as principais são: `dash_html_components (html)` e `dash_core_components (dcc)`.\n",
    "\n",
    "Exemplo com `dash_html_components (html)` utilizando `html.H1` até `html.H6`."
   ]
  },
  {
   "cell_type": "code",
   "execution_count": null,
   "metadata": {},
   "outputs": [],
   "source": [
    "# Bibliotecas\n",
    "from dash import Dash, dcc, html\n",
    "\n",
    "# Cria app com dash\n",
    "app = Dash(__name__)\n",
    "\n",
    "# Layout do app\n",
    "# Div : seção\n",
    "# H1-H6 : títulos\n",
    "app.layout = html.Div([   \n",
    "    html.H1('Hello Dash'),\n",
    "    html.H2('Hello Dash'),\n",
    "    html.H3('Hello Dash'),\n",
    "    html.H4('Hello Dash'),\n",
    "    html.H5('Hello Dash'),\n",
    "    html.H6('Hello Dash')\n",
    "])\n",
    "\n",
    "# Executa o app em servidor\n",
    "if __name__ == '__main__':\n",
    "    app.run_server(debug=True)"
   ]
  },
  {
   "cell_type": "markdown",
   "metadata": {},
   "source": [
    "A seguir é apresentado um exemplo com `dash_core_components (dcc)` adicionando um objeto gráfico `dcc.Graph`. \n",
    "\n",
    "Para utilizar o objeto gráfico, vamos inicialmente gerar valores e colocar dentro de uma tabela de dados através do `DataFrame` da biblioteca `pandas`\n",
    "\n",
    "``pip install pandas``\n",
    "\n",
    "Note também que antes de adicionar o objeto é preciso definir o tipo de gráfico. Neste caso, será utilizado o gráfico em barras `px.bar` como exemplo."
   ]
  },
  {
   "cell_type": "code",
   "execution_count": null,
   "metadata": {},
   "outputs": [],
   "source": [
    "# Bibliotecas\n",
    "from dash import dash, dcc, html\n",
    "import pandas as pd             # pd.Dataframe\n",
    "import plotly.express as px     # px.bar\n",
    "\n",
    "# Cria app com dash\n",
    "app = dash.Dash(__name__)\n",
    "\n",
    "# Cria tabela de dados\n",
    "df = pd.DataFrame({\n",
    "    \"Tanques\" : [\"Setor A\", \"Setor B\", \"Setor C\", \"Setor D\"],\n",
    "    \"Volume\"  : [9,4,7,3],\n",
    "    \"Níveis\"  : [\"alto\", \"normal\", \"normal\", \"baixo\"]\n",
    "})\n",
    "\n",
    "# Cria gráfico em barras\n",
    "fig = px.bar(df, x=\"Tanques\", y=\"Volume\", \n",
    "             color=\"Níveis\", \n",
    "             color_discrete_sequence=[\"red\",\"green\",\"yellow\"])\n",
    "\n",
    "# Layout do app\n",
    "app.layout = html.Div([\n",
    "        html.H1('Supervisão de Tanques'),\n",
    "        html.H2('Volume dos tanques'),\n",
    "        dcc.Graph(figure=fig)\n",
    "])\n",
    "\n",
    "# Executa o app em servidor\n",
    "if __name__ == '__main__':\n",
    "    app.run_server(debug=True)"
   ]
  },
  {
   "cell_type": "markdown",
   "metadata": {},
   "source": [
    "Os aplicativos Dash são renderizados no navegador da web com CSS e JavaScript. Logo, é possível adicionar instruções CSS e Javascript no aplicativo com Dash. \n",
    "\n",
    "Como boa prática de programação, é recomendado separar em arquivos de estilização CSS do app Dash e criar nomes de referência com o elemento `id`."
   ]
  },
  {
   "cell_type": "code",
   "execution_count": null,
   "metadata": {},
   "outputs": [],
   "source": [
    "# Bibliotecas\n",
    "from dash import dash, dcc, html\n",
    "import pandas as pd             # Dataframe\n",
    "import plotly.express as px     # px.bar\n",
    "\n",
    "# Cria app com dash\n",
    "app = dash.Dash(__name__)\n",
    "\n",
    "# Cria tabela de dados\n",
    "df = pd.DataFrame({\n",
    "    \"Tanques\" : [\"Setor A\", \"Setor B\", \"Setor C\", \"Setor D\"],\n",
    "    \"Volume\"  : [9,4,7,3],\n",
    "    \"Níveis\"  : [\"alto\", \"normal\", \"normal\", \"baixo\"]\n",
    "})\n",
    "\n",
    "# Cria grafico em barras\n",
    "fig = px.bar(df, x=\"Tanques\", y=\"Volume\", \n",
    "             color=\"Níveis\", \n",
    "             color_discrete_sequence=[\"red\",\"green\",\"yellow\"])\n",
    "\n",
    "# Layout do app\n",
    "app.layout = html.Div([\n",
    "    html.Div([\n",
    "        html.H1('Supervisão de Tanques'),\n",
    "        html.H2('Volume dos tanques'),\n",
    "    ], id='div_titulo'),\n",
    "    html.Div([\n",
    "        dcc.Graph(figure=fig)\n",
    "    ], id='div_grafico')\n",
    "])\n",
    "\n",
    "# Executa o app em servidor\n",
    "if __name__ == '__main__':\n",
    "    app.run_server(debug=True)"
   ]
  },
  {
   "cell_type": "markdown",
   "metadata": {},
   "source": [
    "Desta forma, deve-se criar o diretório `/assets` dentro do projeto e adiciona o arquivo `style.css` para estilização. \n",
    "\n",
    "Através do arquivo consegue-se acessar os `ids` dos objetos e consequentemente estilizá-los."
   ]
  },
  {
   "cell_type": "code",
   "execution_count": null,
   "metadata": {},
   "outputs": [],
   "source": [
    "\"\"\"\n",
    "\n",
    "#div_titulo {\n",
    "    display:flex;\n",
    "    flex-direction:column;\n",
    "    background-color:black;\n",
    "    color:azure;\n",
    "    text-align: center;\n",
    "    width:100%;\n",
    "    margin:0% 0% 0% 0%;\n",
    "}\n",
    "#div_grafico {\n",
    "    width:100%;\n",
    "    margin:0% 0% 0% 0%;\n",
    "}\n",
    "\n",
    "\"\"\""
   ]
  },
  {
   "cell_type": "markdown",
   "metadata": {},
   "source": [
    "Existem outras formas de estilização através de folhas de estilo externas.\n",
    "\n",
    "A primeira é através do módulo `dash_bootstrap_components (dbc)`. Para utilizá-lo é necessário instalar a biblioteca correspondente pois não vem junto com o `Dash`.\n",
    "\n",
    "`pip install dash_bootstrap_components`"
   ]
  },
  {
   "cell_type": "code",
   "execution_count": null,
   "metadata": {},
   "outputs": [],
   "source": [
    "import dash_bootstrap_components as dbc # estilização do bootstrap\n",
    "\n",
    "# Estilização externa\n",
    "external_stylesheets=[dbc.themes.DARKLY]\n",
    "\n",
    "# Cria app com dash\n",
    "app = dash.Dash(__name__, external_stylesheets=external_stylesheets)"
   ]
  },
  {
   "cell_type": "markdown",
   "metadata": {},
   "source": [
    "Obs.: Além de temas de estilização, o `dbc` fornece uma série de objetos alternativos."
   ]
  },
  {
   "cell_type": "markdown",
   "metadata": {},
   "source": [
    "A segunda é utilizar fontes de estilos de terceiros, como exemplo: `https://codepen.io/chriddyp/pen/bWLwgP.css`"
   ]
  },
  {
   "cell_type": "code",
   "execution_count": null,
   "metadata": {},
   "outputs": [],
   "source": [
    "# Estilização externa\n",
    "external_stylesheets=['https://codepen.io/chriddyp/pen/bWLwgP.css']\n",
    "\n",
    "# Cria app com dash\n",
    "app = dash.Dash(__name__, external_stylesheets=external_stylesheets)"
   ]
  },
  {
   "cell_type": "markdown",
   "metadata": {},
   "source": [
    "___"
   ]
  },
  {
   "cell_type": "markdown",
   "metadata": {},
   "source": [
    "## Callback Dash\n",
    "\n",
    "Como observado anteriormente o `app.layout` descreve a aparência do aplicativo e é uma árvore hierárquica de componentes. \n",
    "\n",
    "Os módulos `html`, `dcc` e `dbc` fornecem objetos e possuem uma série de argumentos. \n",
    "\n",
    "Porém, para interação com os objetos são necessárias funções de retorno de chamada, especificada como `Callback`\n",
    "\n",
    "``@app.callback([Output(componente_id, component_property)],[Input(component_id, component_property)])``\n",
    "\n",
    "``def update_output(input_value)``\n",
    "\n",
    "Desta forma, as funções são chamadas automaticamente pelo Dash sempre que a propriedade de um componente de entrada muda, para atualizar alguma propriedade em outro componente (a saída).\n",
    "\n",
    "Para atualizar o `Output` em relação ao `Input` é necessário acrescetar os módulos `Input` e `Output`\n",
    "\n",
    "Observe o exemplo."
   ]
  },
  {
   "cell_type": "code",
   "execution_count": null,
   "metadata": {},
   "outputs": [],
   "source": [
    "# Bibliotecas\n",
    "from dash import dash, dcc, html, Input, Output # acrescentando os módulos\n",
    "import pandas as pd             # Dataframe\n",
    "import plotly.express as px     # px.bar\n",
    "import dash_bootstrap_components as dbc # estilização do bootstrap\n",
    "\n",
    "# Estilização externa\n",
    "external_stylesheets=[dbc.themes.FLATLY]\n",
    "\n",
    "# Cria app com dash\n",
    "app = dash.Dash(__name__, external_stylesheets=external_stylesheets)\n",
    "\n",
    "# Cria tabela de dados\n",
    "df = pd.DataFrame({\n",
    "    \"Tanques\" : [\"Setor A\", \"Setor B\", \"Setor C\", \"Setor D\"],\n",
    "    \"Volume\"  : [9,4,7,3],\n",
    "    \"Níveis\"  : [\"alto\", \"normal\", \"normal\", \"baixo\"]\n",
    "})\n",
    "\n",
    "# Cria grafico em barras\n",
    "fig = px.bar(df, x=\"Tanques\", y=\"Volume\", \n",
    "             color=\"Níveis\", \n",
    "             color_discrete_sequence=[\"red\",\"green\",\"yellow\"])\n",
    "\n",
    "# Layout do app\n",
    "app.layout = html.Div([\n",
    "    html.Div([\n",
    "        html.H1('Supervisão de Tanques'),\n",
    "        html.H2('Volume dos tanques'),\n",
    "    ], id='div_titulo'),\n",
    "    html.Div([\n",
    "        dbc.Button('Iniciar', id='botao'),\n",
    "        html.Label('Sistema parado!', id='label')\n",
    "    ], id='div_botao'),\n",
    "    html.Div([\n",
    "        dcc.Graph(figure=fig)\n",
    "    ], id='div_grafico')\n",
    "])\n",
    "\n",
    "# Callbacks do app\n",
    "@app.callback(\n",
    "    Output('label','children'),\n",
    "    [Input('botao','n_clicks')]\n",
    ")\n",
    "def update_output(input):\n",
    "    if input == None:\n",
    "        return \n",
    "    if input%2 == 0:\n",
    "        return f'Sistema parado!'\n",
    "    else:\n",
    "        return f'Sistema em execução...'\n",
    "\n",
    "\n",
    "# Executa o app em servidor\n",
    "if __name__ == '__main__':\n",
    "    app.run_server(debug=True)"
   ]
  },
  {
   "cell_type": "markdown",
   "metadata": {},
   "source": [
    "Atualização do arquivo `style.css`"
   ]
  },
  {
   "cell_type": "code",
   "execution_count": null,
   "metadata": {},
   "outputs": [],
   "source": [
    "'''\n",
    "\n",
    "#div_titulo {\n",
    "    display:flex;\n",
    "    flex-direction:column;\n",
    "    background-color:black;\n",
    "    color:azure;\n",
    "    text-align: center;\n",
    "    width:100%;\n",
    "    margin:0% 0% 0% 0%;\n",
    "}\n",
    "#div_grafico {\n",
    "    display: flex;\n",
    "    flex-direction:column;\n",
    "    width:100%;\n",
    "    margin:0% 0% 0% 0%;\n",
    "}\n",
    "#div_botao {\n",
    "    display: flex;\n",
    "    flex-direction:row;\n",
    "    margin:2% 9% 0% 6%; \n",
    "    background-color:rgba(205, 212, 214, 0.639);\n",
    "    align-items: center;\n",
    "}\n",
    "#label {\n",
    "    margin:0% 0% 0% 40%;\n",
    "    color:black;\n",
    "}\n",
    "\n",
    "'''"
   ]
  }
 ],
 "metadata": {
  "kernelspec": {
   "display_name": "Python 3 (ipykernel)",
   "language": "python",
   "name": "python3"
  },
  "language_info": {
   "codemirror_mode": {
    "name": "ipython",
    "version": 3
   },
   "file_extension": ".py",
   "mimetype": "text/x-python",
   "name": "python",
   "nbconvert_exporter": "python",
   "pygments_lexer": "ipython3",
   "version": "3.11.3"
  }
 },
 "nbformat": 4,
 "nbformat_minor": 4
}
